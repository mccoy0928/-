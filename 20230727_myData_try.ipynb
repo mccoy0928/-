{
  "nbformat": 4,
  "nbformat_minor": 0,
  "metadata": {
    "colab": {
      "provenance": [],
      "authorship_tag": "ABX9TyMP5IJUyFNfK8phq4SWeuwu",
      "include_colab_link": true
    },
    "kernelspec": {
      "name": "python3",
      "display_name": "Python 3"
    },
    "language_info": {
      "name": "python"
    }
  },
  "cells": [
    {
      "cell_type": "markdown",
      "metadata": {
        "id": "view-in-github",
        "colab_type": "text"
      },
      "source": [
        "<a href=\"https://colab.research.google.com/github/mccoy0928/-/blob/master/20230727_myData_try.ipynb\" target=\"_parent\"><img src=\"https://colab.research.google.com/assets/colab-badge.svg\" alt=\"Open In Colab\"/></a>"
      ]
    },
    {
      "cell_type": "markdown",
      "source": [
        "# 練習myData圖形繪製\n",
        "\n"
      ],
      "metadata": {
        "id": "ustuvS9-Gg5N"
      }
    },
    {
      "cell_type": "code",
      "execution_count": 2,
      "metadata": {
        "id": "jDYOjgLsGZte"
      },
      "outputs": [],
      "source": [
        "import pandas as pd\n",
        "import matplotlib.pyplot as plt\n",
        "import numpy as np\n"
      ]
    },
    {
      "cell_type": "markdown",
      "source": [
        "## bar長條圖\n"
      ],
      "metadata": {
        "id": "8uRD0nznHCSi"
      }
    },
    {
      "cell_type": "code",
      "source": [
        "df = pd.read_excel(\"myData.xlsx\", sheet_name = \"工作表1\")\n",
        "# print(df)\n",
        "# type(df)\n",
        "# len(df)\n",
        "df.head()"
      ],
      "metadata": {
        "id": "W-EjQg0kHJS1"
      },
      "execution_count": null,
      "outputs": []
    },
    {
      "cell_type": "code",
      "source": [
        "df2 = pd.read_excel(\"myData.xlsx\", sheet_name = \"工作表1\", usecols=\"B:P\")  #讀取欄位名only 針對熱力圖所需\n",
        "# df2.head()"
      ],
      "metadata": {
        "id": "Dg2_2NDlIHau"
      },
      "execution_count": null,
      "outputs": []
    },
    {
      "cell_type": "code",
      "source": [
        "myList = np.array(df2)\n",
        "# myList\n",
        "myList.shape"
      ],
      "metadata": {
        "colab": {
          "base_uri": "https://localhost:8080/"
        },
        "id": "mB2zcXgeQCCT",
        "outputId": "44ca12be-8335-44de-f49b-5129f1e22fc0"
      },
      "execution_count": 34,
      "outputs": [
        {
          "output_type": "execute_result",
          "data": {
            "text/plain": [
              "(20, 15)"
            ]
          },
          "metadata": {},
          "execution_count": 34
        }
      ]
    },
    {
      "cell_type": "code",
      "source": [
        "# 创建热力图\n",
        "#plt.imshow(values, cmap='hot', interpolation='nearest')\n",
        "#values2 = values[0:, 1:]\n",
        "#plt.imshow(values2)\n",
        "plt.imshow(df2)\n",
        "# 添加颜色栏\n",
        "plt.colorbar()\n",
        "\n",
        "# 显示图形\n",
        "plt.show()"
      ],
      "metadata": {
        "colab": {
          "base_uri": "https://localhost:8080/",
          "height": 252
        },
        "id": "5OHULk6KU6bH",
        "outputId": "b7cfcc06-b28b-491e-fd07-1c15f4218f6b"
      },
      "execution_count": 37,
      "outputs": [
        {
          "output_type": "display_data",
          "data": {
            "text/plain": [
              "<Figure size 200x200 with 2 Axes>"
            ],
            "image/png": "[encoded data removed]"
          },
          "metadata": {}
        }
      ]
    },
    {
      "cell_type": "code",
      "source": [
        "# ChatGPT 產生code\n",
        "# import numpy as np\n",
        "# import matplotlib.pyplot as plt\n",
        "\n",
        "\n",
        "# 產生範例資料，這裡使用了隨機的二維NumPy陣列\n",
        "data = np.random.randint(1, 10, size=(4, 3))  # 產生一個 4x3 的二維陣列，數值範圍在 1 到 10 之間\n",
        "\n",
        "# 設置長條圖參數\n",
        "rows = ['Row 1', 'Row 2', 'Row 3', 'Row 4']  # 每一列的標籤\n",
        "columns = ['A', 'B', 'C']  # 每一行的標籤\n",
        "\n",
        "# 建立長條圖\n",
        "fig, ax = plt.subplots()\n",
        "width = 0.2  # 設置每個長條的寬度\n",
        "x = np.arange(len(columns))\n",
        "\n",
        "for i, row in enumerate(data):\n",
        "    ax.bar(x + i * width, row, width, label=rows[i])\n",
        "\n",
        "# 加入標籤和圖例\n",
        "ax.set_ylabel('數值')\n",
        "ax.set_title('二維資料長條圖')\n",
        "ax.set_xticks(x + width * (len(data) - 1) / 2)\n",
        "ax.set_xticklabels(columns)\n",
        "ax.legend()\n",
        "\n",
        "# 顯示圖形\n",
        "plt.show()\n"
      ],
      "metadata": {
        "colab": {
          "base_uri": "https://localhost:8080/",
          "height": 600
        },
        "id": "Yh1aFKhuRNG7",
        "outputId": "7da6ffad-f070-402c-c098-102fdd730df6"
      },
      "execution_count": 36,
      "outputs": [
        {
          "output_type": "stream",
          "name": "stderr",
          "text": [
            "/usr/local/lib/python3.10/dist-packages/IPython/core/pylabtools.py:151: UserWarning: Glyph 25976 (\\N{CJK UNIFIED IDEOGRAPH-6578}) missing from current font.\n",
            "  fig.canvas.print_figure(bytes_io, **kw)\n",
            "/usr/local/lib/python3.10/dist-packages/IPython/core/pylabtools.py:151: UserWarning: Glyph 20540 (\\N{CJK UNIFIED IDEOGRAPH-503C}) missing from current font.\n",
            "  fig.canvas.print_figure(bytes_io, **kw)\n",
            "/usr/local/lib/python3.10/dist-packages/IPython/core/pylabtools.py:151: UserWarning: Glyph 20108 (\\N{CJK UNIFIED IDEOGRAPH-4E8C}) missing from current font.\n",
            "  fig.canvas.print_figure(bytes_io, **kw)\n",
            "/usr/local/lib/python3.10/dist-packages/IPython/core/pylabtools.py:151: UserWarning: Glyph 32173 (\\N{CJK UNIFIED IDEOGRAPH-7DAD}) missing from current font.\n",
            "  fig.canvas.print_figure(bytes_io, **kw)\n",
            "/usr/local/lib/python3.10/dist-packages/IPython/core/pylabtools.py:151: UserWarning: Glyph 36039 (\\N{CJK UNIFIED IDEOGRAPH-8CC7}) missing from current font.\n",
            "  fig.canvas.print_figure(bytes_io, **kw)\n",
            "/usr/local/lib/python3.10/dist-packages/IPython/core/pylabtools.py:151: UserWarning: Glyph 26009 (\\N{CJK UNIFIED IDEOGRAPH-6599}) missing from current font.\n",
            "  fig.canvas.print_figure(bytes_io, **kw)\n",
            "/usr/local/lib/python3.10/dist-packages/IPython/core/pylabtools.py:151: UserWarning: Glyph 38263 (\\N{CJK UNIFIED IDEOGRAPH-9577}) missing from current font.\n",
            "  fig.canvas.print_figure(bytes_io, **kw)\n",
            "/usr/local/lib/python3.10/dist-packages/IPython/core/pylabtools.py:151: UserWarning: Glyph 26781 (\\N{CJK UNIFIED IDEOGRAPH-689D}) missing from current font.\n",
            "  fig.canvas.print_figure(bytes_io, **kw)\n",
            "/usr/local/lib/python3.10/dist-packages/IPython/core/pylabtools.py:151: UserWarning: Glyph 22294 (\\N{CJK UNIFIED IDEOGRAPH-5716}) missing from current font.\n",
            "  fig.canvas.print_figure(bytes_io, **kw)\n"
          ]
        },
        {
          "output_type": "display_data",
          "data": {
            "text/plain": [
              "<Figure size 200x200 with 1 Axes>"
            ],
            "image/png": "[encoded data removed]"
          },
          "metadata": {}
        }
      ]
    },
    {
      "cell_type": "markdown",
      "source": [
        "### 網路舉例\n",
        "\n",
        "```\n",
        "\n",
        "import matplotlib.pyplot as plt\n",
        "import numpy as np\n",
        "\n",
        "plt.style.use('_mpl-gallery')\n",
        "\n",
        "# make data\n",
        "np.random.seed(1)\n",
        "x = 4 + np.random.normal(0, 1.5, 200)\n",
        "\n",
        "# plot:\n",
        "fig, ax = plt.subplots()\n",
        "\n",
        "ax.hist(x, bins=8, linewidth=0.5, edgecolor=\"white\")\n",
        "\n",
        "ax.set(xlim=(0, 8), xticks=np.arange(1, 8),\n",
        "       ylim=(0, 56), yticks=np.linspace(0, 56, 9))\n",
        "\n",
        "plt.show()\n",
        "\n",
        "```"
      ],
      "metadata": {
        "id": "rrT3cRFGKwvU"
      }
    },
    {
      "cell_type": "code",
      "source": [
        "plt.style.use('_mpl-gallery')\n",
        "\n",
        "# make data\n",
        "np.random.seed(1)\n",
        "x = 4 + np.random.normal(0, 1.5, 200)\n",
        "\n",
        "# plot:\n",
        "fig, ax = plt.subplots()\n",
        "\n",
        "ax.hist(x, bins=8, linewidth=0.5, edgecolor=\"white\")\n",
        "\n",
        "ax.set(xlim=(0, 8), xticks=np.arange(1, 8),\n",
        "       ylim=(0, 56), yticks=np.linspace(0, 56, 9))\n",
        "\n",
        "plt.show()\n"
      ],
      "metadata": {
        "colab": {
          "base_uri": "https://localhost:8080/",
          "height": 257
        },
        "id": "tc8_0ouEL4y-",
        "outputId": "bd377418-6e44-408b-f6f1-0aa3ee52f1db"
      },
      "execution_count": 29,
      "outputs": [
        {
          "output_type": "display_data",
          "data": {
            "text/plain": [
              "<Figure size 200x200 with 1 Axes>"
            ],
            "image/png": "[encoded data removed]"
          },
          "metadata": {}
        }
      ]
    },
    {
      "cell_type": "code",
      "source": [
        "x"
      ],
      "metadata": {
        "colab": {
          "base_uri": "https://localhost:8080/"
        },
        "id": "-5vopFfzQczV",
        "outputId": "4dbd5603-09f0-4401-cd2d-638548dbe3ce"
      },
      "execution_count": 30,
      "outputs": [
        {
          "output_type": "execute_result",
          "data": {
            "text/plain": [
              "array([6.43651805, 3.08236538, 3.20774237, 2.39054707, 5.29811144,\n",
              "       0.54769195, 6.61721765, 2.85818965, 4.47855864, 3.62594444,\n",
              "       6.19316191, 0.90978894, 3.51637419, 3.42391847, 5.70065416,\n",
              "       2.3501631 , 3.74135769, 2.68321237, 4.06332062, 4.87422282,\n",
              "       2.34907123, 5.71708556, 5.35238608, 4.75374151, 5.35128392,\n",
              "       2.97440821, 3.81566466, 2.59634585, 3.59816788, 4.7955332 ,\n",
              "       2.96250887, 3.40486971, 2.96924095, 2.73219154, 2.9931308 ,\n",
              "       3.9810031 , 2.32403448, 4.35162355, 6.48970327, 5.11306624,\n",
              "       3.71224667, 2.66855655, 2.87926256, 6.5386819 , 4.07621163,\n",
              "       3.04450653, 4.28637323, 7.1503827 , 4.18023843, 4.92580466,\n",
              "       4.45025548, 3.47162523, 2.2862227 , 3.47598592, 3.68665865,\n",
              "       4.87993479, 5.25847512, 5.39665312, 4.42838099, 5.32771175,\n",
              "       2.86840309, 5.87930223, 4.76939473, 3.55286075, 4.73277722,\n",
              "       3.88664243, 5.69744408, 6.27972522, 7.27836311, 1.9052555 ,\n",
              "       1.83382929, 3.24330121, 4.2400556 , 5.31425338, 4.47345242,\n",
              "       0.96669818, 3.54069398, 5.24196196, 4.3451421 , 5.14301677,\n",
              "       3.66650779, 3.6988629 , 4.27984209, 4.61507747, 4.29744958,\n",
              "       4.17851297, 2.99400657, 4.56634568, 4.18273191, 5.69422586,\n",
              "       5.79837682, 4.27773463, 3.43707257, 3.04190439, 4.63524153,\n",
              "       4.1160101 , 3.48421949, 4.06539529, 3.06999873, 5.04704805,\n",
              "       3.32930715, 5.83676156, 4.60523746, 4.89036778, 2.35763223,\n",
              "       4.25407365, 5.11083468, 2.5694491 , 3.60067224, 4.04892182,\n",
              "       1.94032402, 4.47273909, 5.26924097, 2.71072609, 4.52581897,\n",
              "       2.03157488, 3.94195674, 1.57634147, 5.68212656, 4.61335081,\n",
              "       3.96307457, 2.83725757, 5.9106339 , 6.95065262, 1.2130272 ,\n",
              "       5.85424605, 6.44147613, 4.50701754, 2.20109795, 5.29501798,\n",
              "       3.72861955, 3.09411906, 2.1549128 , 4.82580624, 5.1892103 ,\n",
              "       3.06470391, 4.78086451, 2.28348792, 5.20279155, 4.06985095,\n",
              "       3.72014534, 3.84738119, 5.30332924, 5.12561746, 4.79419799,\n",
              "       4.20655181, 4.11673169, 4.92757039, 4.34874184, 5.02382711,\n",
              "       3.53482484, 0.34774335, 5.5582369 , 7.28046947, 4.66204667,\n",
              "       3.84976715, 3.79533288, 3.82141872, 4.02611411, 2.31697191,\n",
              "       3.22435831, 2.50445976, 4.37319874, 3.55503827, 4.74281699,\n",
              "       3.73794526, 5.47950278, 4.32030085, 7.28604959, 1.15545862,\n",
              "       3.02962497, 5.35223034, 7.79248856, 3.62704783, 4.06550349,\n",
              "       3.66052864, 5.99718567, 3.5690382 , 5.02010476, 3.5202976 ,\n",
              "       2.09116187, 4.47032158, 4.75477722, 5.93983882, 3.83432946,\n",
              "       3.0739569 , 4.84414164, 4.36110564, 4.42099762, 3.89033094,\n",
              "       5.74050785, 4.55423907, 6.85698806, 5.66658505, 4.98857469,\n",
              "       1.55884249, 4.90347892, 4.63042331, 5.21642751, 5.56666314])"
            ]
          },
          "metadata": {},
          "execution_count": 30
        }
      ]
    }
  ]
}