{
  "nbformat": 4,
  "nbformat_minor": 0,
  "metadata": {
    "colab": {
      "provenance": [],
      "authorship_tag": "ABX9TyMP3KP5YkLfs/7bSLMz6fkm",
      "include_colab_link": true
    },
    "kernelspec": {
      "name": "python3",
      "display_name": "Python 3"
    },
    "language_info": {
      "name": "python"
    }
  },
  "cells": [
    {
      "cell_type": "markdown",
      "metadata": {
        "id": "view-in-github",
        "colab_type": "text"
      },
      "source": [
        "<a href=\"https://colab.research.google.com/github/mccoy0928/-/blob/master/20230727_myData_try.ipynb\" target=\"_parent\"><img src=\"https://colab.research.google.com/assets/colab-badge.svg\" alt=\"Open In Colab\"/></a>"
      ]
    },
    {
      "cell_type": "markdown",
      "source": [
        "# 練習myData圖形繪製\n",
        "\n"
      ],
      "metadata": {
        "id": "ustuvS9-Gg5N"
      }
    },
    {
      "cell_type": "code",
      "execution_count": 1,
      "metadata": {
        "id": "jDYOjgLsGZte"
      },
      "outputs": [],
      "source": [
        "import pandas as pd\n",
        "import matplotlib.pyplot as plt\n",
        "import numpy as np\n"
      ]
    },
    {
      "cell_type": "markdown",
      "source": [
        "## 資料讀取轉換"
      ],
      "metadata": {
        "id": "8uRD0nznHCSi"
      }
    },
    {
      "cell_type": "code",
      "source": [
        "df = pd.read_excel(\"myData.xlsx\", sheet_name = \"工作表1\")\n",
        "# print(df)\n",
        "# type(df)\n",
        "# len(df)\n",
        "df.head()"
      ],
      "metadata": {
        "id": "W-EjQg0kHJS1",
        "colab": {
          "base_uri": "https://localhost:8080/",
          "height": 314
        },
        "outputId": "be7455a2-6fa7-4294-a0a0-9384ef2216e1"
      },
      "execution_count": 19,
      "outputs": [
        {
          "output_type": "execute_result",
          "data": {
            "text/plain": [
              "  Unnamed: 0  Row 1  Row 2  Row 3  Row 4  Row 5  Row 6  Row 7  Row 8  Row 9  \\\n",
              "0         R1  3.326  3.387  3.143  2.770  2.144  2.296  2.335  2.144  2.205   \n",
              "1         R2  1.190  0.237  0.763  0.336  0.633  0.465 -0.114  0.107  0.633   \n",
              "2         R3 -0.931  0.656 -0.488 -0.137 -1.419 -1.160 -0.862 -0.969 -0.984   \n",
              "3         R4 -1.572 -1.953 -1.579 -1.549 -1.404 -1.549 -2.022 -1.907 -1.732   \n",
              "4         R5 -1.785 -1.839 -0.748 -0.626 -1.617 -1.251 -1.724 -2.121 -1.480   \n",
              "\n",
              "   ...  Row 31  Row 32  Row 33  Row 34  Row 35  Row 36  Row 37  Row 38  \\\n",
              "0  ...   2.930   2.625   3.113   2.594   3.601   2.914   2.548   2.708   \n",
              "1  ...   0.351   0.458   0.893   0.969   1.396   1.015   1.266   1.183   \n",
              "2  ...  -0.565  -0.458  -0.748  -0.084  -0.420  -0.740  -0.381  -0.549   \n",
              "3  ...  -2.075  -1.762  -2.235  -1.999  -2.144  -2.144  -1.511  -0.412   \n",
              "4  ...  -1.457  -1.740  -2.174  -0.832  -1.205  -1.366  -1.472  -0.656   \n",
              "\n",
              "   Row 39  Row 40  \n",
              "0   2.205   2.487  \n",
              "1   1.266   1.427  \n",
              "2   0.488  -0.587  \n",
              "3  -0.465  -1.099  \n",
              "4  -0.420  -0.763  \n",
              "\n",
              "[5 rows x 41 columns]"
            ],
            "text/html": [
              "\n",
              "\n",
              "  <div id=\"df-5fb1619e-7301-43ea-96d2-1a486cf2bcf8\">\n",
              "    <div class=\"colab-df-container\">\n",
              "      <div>\n",
              "<style scoped>\n",
              "    .dataframe tbody tr th:only-of-type {\n",
              "        vertical-align: middle;\n",
              "    }\n",
              "\n",
              "    .dataframe tbody tr th {\n",
              "        vertical-align: top;\n",
              "    }\n",
              "\n",
              "    .dataframe thead th {\n",
              "        text-align: right;\n",
              "    }\n",
              "</style>\n",
              "<table border=\"1\" class=\"dataframe\">\n",
              "  <thead>\n",
              "    <tr style=\"text-align: right;\">\n",
              "      <th></th>\n",
              "      <th>Unnamed: 0</th>\n",
              "      <th>Row 1</th>\n",
              "      <th>Row 2</th>\n",
              "      <th>Row 3</th>\n",
              "      <th>Row 4</th>\n",
              "      <th>Row 5</th>\n",
              "      <th>Row 6</th>\n",
              "      <th>Row 7</th>\n",
              "      <th>Row 8</th>\n",
              "      <th>Row 9</th>\n",
              "      <th>...</th>\n",
              "      <th>Row 31</th>\n",
              "      <th>Row 32</th>\n",
              "      <th>Row 33</th>\n",
              "      <th>Row 34</th>\n",
              "      <th>Row 35</th>\n",
              "      <th>Row 36</th>\n",
              "      <th>Row 37</th>\n",
              "      <th>Row 38</th>\n",
              "      <th>Row 39</th>\n",
              "      <th>Row 40</th>\n",
              "    </tr>\n",
              "  </thead>\n",
              "  <tbody>\n",
              "    <tr>\n",
              "      <th>0</th>\n",
              "      <td>R1</td>\n",
              "      <td>3.326</td>\n",
              "      <td>3.387</td>\n",
              "      <td>3.143</td>\n",
              "      <td>2.770</td>\n",
              "      <td>2.144</td>\n",
              "      <td>2.296</td>\n",
              "      <td>2.335</td>\n",
              "      <td>2.144</td>\n",
              "      <td>2.205</td>\n",
              "      <td>...</td>\n",
              "      <td>2.930</td>\n",
              "      <td>2.625</td>\n",
              "      <td>3.113</td>\n",
              "      <td>2.594</td>\n",
              "      <td>3.601</td>\n",
              "      <td>2.914</td>\n",
              "      <td>2.548</td>\n",
              "      <td>2.708</td>\n",
              "      <td>2.205</td>\n",
              "      <td>2.487</td>\n",
              "    </tr>\n",
              "    <tr>\n",
              "      <th>1</th>\n",
              "      <td>R2</td>\n",
              "      <td>1.190</td>\n",
              "      <td>0.237</td>\n",
              "      <td>0.763</td>\n",
              "      <td>0.336</td>\n",
              "      <td>0.633</td>\n",
              "      <td>0.465</td>\n",
              "      <td>-0.114</td>\n",
              "      <td>0.107</td>\n",
              "      <td>0.633</td>\n",
              "      <td>...</td>\n",
              "      <td>0.351</td>\n",
              "      <td>0.458</td>\n",
              "      <td>0.893</td>\n",
              "      <td>0.969</td>\n",
              "      <td>1.396</td>\n",
              "      <td>1.015</td>\n",
              "      <td>1.266</td>\n",
              "      <td>1.183</td>\n",
              "      <td>1.266</td>\n",
              "      <td>1.427</td>\n",
              "    </tr>\n",
              "    <tr>\n",
              "      <th>2</th>\n",
              "      <td>R3</td>\n",
              "      <td>-0.931</td>\n",
              "      <td>0.656</td>\n",
              "      <td>-0.488</td>\n",
              "      <td>-0.137</td>\n",
              "      <td>-1.419</td>\n",
              "      <td>-1.160</td>\n",
              "      <td>-0.862</td>\n",
              "      <td>-0.969</td>\n",
              "      <td>-0.984</td>\n",
              "      <td>...</td>\n",
              "      <td>-0.565</td>\n",
              "      <td>-0.458</td>\n",
              "      <td>-0.748</td>\n",
              "      <td>-0.084</td>\n",
              "      <td>-0.420</td>\n",
              "      <td>-0.740</td>\n",
              "      <td>-0.381</td>\n",
              "      <td>-0.549</td>\n",
              "      <td>0.488</td>\n",
              "      <td>-0.587</td>\n",
              "    </tr>\n",
              "    <tr>\n",
              "      <th>3</th>\n",
              "      <td>R4</td>\n",
              "      <td>-1.572</td>\n",
              "      <td>-1.953</td>\n",
              "      <td>-1.579</td>\n",
              "      <td>-1.549</td>\n",
              "      <td>-1.404</td>\n",
              "      <td>-1.549</td>\n",
              "      <td>-2.022</td>\n",
              "      <td>-1.907</td>\n",
              "      <td>-1.732</td>\n",
              "      <td>...</td>\n",
              "      <td>-2.075</td>\n",
              "      <td>-1.762</td>\n",
              "      <td>-2.235</td>\n",
              "      <td>-1.999</td>\n",
              "      <td>-2.144</td>\n",
              "      <td>-2.144</td>\n",
              "      <td>-1.511</td>\n",
              "      <td>-0.412</td>\n",
              "      <td>-0.465</td>\n",
              "      <td>-1.099</td>\n",
              "    </tr>\n",
              "    <tr>\n",
              "      <th>4</th>\n",
              "      <td>R5</td>\n",
              "      <td>-1.785</td>\n",
              "      <td>-1.839</td>\n",
              "      <td>-0.748</td>\n",
              "      <td>-0.626</td>\n",
              "      <td>-1.617</td>\n",
              "      <td>-1.251</td>\n",
              "      <td>-1.724</td>\n",
              "      <td>-2.121</td>\n",
              "      <td>-1.480</td>\n",
              "      <td>...</td>\n",
              "      <td>-1.457</td>\n",
              "      <td>-1.740</td>\n",
              "      <td>-2.174</td>\n",
              "      <td>-0.832</td>\n",
              "      <td>-1.205</td>\n",
              "      <td>-1.366</td>\n",
              "      <td>-1.472</td>\n",
              "      <td>-0.656</td>\n",
              "      <td>-0.420</td>\n",
              "      <td>-0.763</td>\n",
              "    </tr>\n",
              "  </tbody>\n",
              "</table>\n",
              "<p>5 rows × 41 columns</p>\n",
              "</div>\n",
              "      <button class=\"colab-df-convert\" onclick=\"convertToInteractive('df-5fb1619e-7301-43ea-96d2-1a486cf2bcf8')\"\n",
              "              title=\"Convert this dataframe to an interactive table.\"\n",
              "              style=\"display:none;\">\n",
              "\n",
              "  <svg xmlns=\"http://www.w3.org/2000/svg\" height=\"24px\"viewBox=\"0 0 24 24\"\n",
              "       width=\"24px\">\n",
              "    <path d=\"M0 0h24v24H0V0z\" fill=\"none\"/>\n",
              "    <path d=\"M18.56 5.44l.94 2.06.94-2.06 2.06-.94-2.06-.94-.94-2.06-.94 2.06-2.06.94zm-11 1L8.5 8.5l.94-2.06 2.06-.94-2.06-.94L8.5 2.5l-.94 2.06-2.06.94zm10 10l.94 2.06.94-2.06 2.06-.94-2.06-.94-.94-2.06-.94 2.06-2.06.94z\"/><path d=\"M17.41 7.96l-1.37-1.37c-.4-.4-.92-.59-1.43-.59-.52 0-1.04.2-1.43.59L10.3 9.45l-7.72 7.72c-.78.78-.78 2.05 0 2.83L4 21.41c.39.39.9.59 1.41.59.51 0 1.02-.2 1.41-.59l7.78-7.78 2.81-2.81c.8-.78.8-2.07 0-2.86zM5.41 20L4 18.59l7.72-7.72 1.47 1.35L5.41 20z\"/>\n",
              "  </svg>\n",
              "      </button>\n",
              "\n",
              "\n",
              "\n",
              "    <div id=\"df-84957983-a1ea-4020-9235-75fab14c1cf2\">\n",
              "      <button class=\"colab-df-quickchart\" onclick=\"quickchart('df-84957983-a1ea-4020-9235-75fab14c1cf2')\"\n",
              "              title=\"Suggest charts.\"\n",
              "              style=\"display:none;\">\n",
              "\n",
              "<svg xmlns=\"http://www.w3.org/2000/svg\" height=\"24px\"viewBox=\"0 0 24 24\"\n",
              "     width=\"24px\">\n",
              "    <g>\n",
              "        <path d=\"M19 3H5c-1.1 0-2 .9-2 2v14c0 1.1.9 2 2 2h14c1.1 0 2-.9 2-2V5c0-1.1-.9-2-2-2zM9 17H7v-7h2v7zm4 0h-2V7h2v10zm4 0h-2v-4h2v4z\"/>\n",
              "    </g>\n",
              "</svg>\n",
              "      </button>\n",
              "    </div>\n",
              "\n",
              "<style>\n",
              "  .colab-df-quickchart {\n",
              "    background-color: #E8F0FE;\n",
              "    border: none;\n",
              "    border-radius: 50%;\n",
              "    cursor: pointer;\n",
              "    display: none;\n",
              "    fill: #1967D2;\n",
              "    height: 32px;\n",
              "    padding: 0 0 0 0;\n",
              "    width: 32px;\n",
              "  }\n",
              "\n",
              "  .colab-df-quickchart:hover {\n",
              "    background-color: #E2EBFA;\n",
              "    box-shadow: 0px 1px 2px rgba(60, 64, 67, 0.3), 0px 1px 3px 1px rgba(60, 64, 67, 0.15);\n",
              "    fill: #174EA6;\n",
              "  }\n",
              "\n",
              "  [theme=dark] .colab-df-quickchart {\n",
              "    background-color: #3B4455;\n",
              "    fill: #D2E3FC;\n",
              "  }\n",
              "\n",
              "  [theme=dark] .colab-df-quickchart:hover {\n",
              "    background-color: #434B5C;\n",
              "    box-shadow: 0px 1px 3px 1px rgba(0, 0, 0, 0.15);\n",
              "    filter: drop-shadow(0px 1px 2px rgba(0, 0, 0, 0.3));\n",
              "    fill: #FFFFFF;\n",
              "  }\n",
              "</style>\n",
              "\n",
              "    <script>\n",
              "      async function quickchart(key) {\n",
              "        const containerElement = document.querySelector('#' + key);\n",
              "        const charts = await google.colab.kernel.invokeFunction(\n",
              "            'suggestCharts', [key], {});\n",
              "      }\n",
              "    </script>\n",
              "\n",
              "      <script>\n",
              "\n",
              "function displayQuickchartButton(domScope) {\n",
              "  let quickchartButtonEl =\n",
              "    domScope.querySelector('#df-84957983-a1ea-4020-9235-75fab14c1cf2 button.colab-df-quickchart');\n",
              "  quickchartButtonEl.style.display =\n",
              "    google.colab.kernel.accessAllowed ? 'block' : 'none';\n",
              "}\n",
              "\n",
              "        displayQuickchartButton(document);\n",
              "      </script>\n",
              "      <style>\n",
              "    .colab-df-container {\n",
              "      display:flex;\n",
              "      flex-wrap:wrap;\n",
              "      gap: 12px;\n",
              "    }\n",
              "\n",
              "    .colab-df-convert {\n",
              "      background-color: #E8F0FE;\n",
              "      border: none;\n",
              "      border-radius: 50%;\n",
              "      cursor: pointer;\n",
              "      display: none;\n",
              "      fill: #1967D2;\n",
              "      height: 32px;\n",
              "      padding: 0 0 0 0;\n",
              "      width: 32px;\n",
              "    }\n",
              "\n",
              "    .colab-df-convert:hover {\n",
              "      background-color: #E2EBFA;\n",
              "      box-shadow: 0px 1px 2px rgba(60, 64, 67, 0.3), 0px 1px 3px 1px rgba(60, 64, 67, 0.15);\n",
              "      fill: #174EA6;\n",
              "    }\n",
              "\n",
              "    [theme=dark] .colab-df-convert {\n",
              "      background-color: #3B4455;\n",
              "      fill: #D2E3FC;\n",
              "    }\n",
              "\n",
              "    [theme=dark] .colab-df-convert:hover {\n",
              "      background-color: #434B5C;\n",
              "      box-shadow: 0px 1px 3px 1px rgba(0, 0, 0, 0.15);\n",
              "      filter: drop-shadow(0px 1px 2px rgba(0, 0, 0, 0.3));\n",
              "      fill: #FFFFFF;\n",
              "    }\n",
              "  </style>\n",
              "\n",
              "      <script>\n",
              "        const buttonEl =\n",
              "          document.querySelector('#df-5fb1619e-7301-43ea-96d2-1a486cf2bcf8 button.colab-df-convert');\n",
              "        buttonEl.style.display =\n",
              "          google.colab.kernel.accessAllowed ? 'block' : 'none';\n",
              "\n",
              "        async function convertToInteractive(key) {\n",
              "          const element = document.querySelector('#df-5fb1619e-7301-43ea-96d2-1a486cf2bcf8');\n",
              "          const dataTable =\n",
              "            await google.colab.kernel.invokeFunction('convertToInteractive',\n",
              "                                                     [key], {});\n",
              "          if (!dataTable) return;\n",
              "\n",
              "          const docLinkHtml = 'Like what you see? Visit the ' +\n",
              "            '<a target=\"_blank\" href=https://colab.research.google.com/notebooks/data_table.ipynb>data table notebook</a>'\n",
              "            + ' to learn more about interactive tables.';\n",
              "          element.innerHTML = '';\n",
              "          dataTable['output_type'] = 'display_data';\n",
              "          await google.colab.output.renderOutput(dataTable, element);\n",
              "          const docLink = document.createElement('div');\n",
              "          docLink.innerHTML = docLinkHtml;\n",
              "          element.appendChild(docLink);\n",
              "        }\n",
              "      </script>\n",
              "    </div>\n",
              "  </div>\n"
            ]
          },
          "metadata": {},
          "execution_count": 19
        }
      ]
    },
    {
      "cell_type": "code",
      "source": [
        "df2 = pd.read_excel(\"myData.xlsx\", sheet_name = \"工作表1\", usecols=\"B:AO\")  #讀取欄位名only 針對熱力圖所需\n",
        "# df2.head()"
      ],
      "metadata": {
        "id": "Dg2_2NDlIHau"
      },
      "execution_count": 3,
      "outputs": []
    },
    {
      "cell_type": "code",
      "source": [
        "myList = np.array(df2)\n",
        "# myList\n",
        "# myList.shape"
      ],
      "metadata": {
        "id": "mB2zcXgeQCCT"
      },
      "execution_count": 4,
      "outputs": []
    },
    {
      "cell_type": "code",
      "source": [
        "# 創建熱力圖\n",
        "plt.imshow(df2, cmap='viridis', origin='upper', aspect='auto')\n",
        "\n",
        "# 添加顏色欄圖示\n",
        "plt.colorbar()\n",
        "\n",
        "# 顯示圖形\n",
        "plt.show()"
      ],
      "metadata": {
        "colab": {
          "base_uri": "https://localhost:8080/",
          "height": 255
        },
        "id": "5OHULk6KU6bH",
        "outputId": "890d539b-bc12-4e12-f0c4-543e8c364966"
      },
      "execution_count": null,
      "outputs": [
        {
          "output_type": "display_data",
          "data": {
            "text/plain": [
              "<Figure size 200x200 with 2 Axes>"
            ],
            "image/png": "[encoded data removed]"
          },
          "metadata": {}
        }
      ]
    },
    {
      "cell_type": "code",
      "source": [
        "df.iloc[:, 0]"
      ],
      "metadata": {
        "id": "J8eugXNfZH1I"
      },
      "execution_count": null,
      "outputs": []
    },
    {
      "cell_type": "code",
      "source": [
        "# from pandas._libs.algos import diff_2d\n",
        "# ChatGPT 產生code\n",
        "# import numpy as np\n",
        "# import matplotlib.pyplot as plt\n",
        "\n",
        "\n",
        "# 產生範例資料，這裡使用了隨機的二維NumPy陣列\n",
        "#data = np.random.randint(1, 10, size=(4, 3))  # 產生一個 4x3 的二維陣列，數值範圍在 1 到 10 之間\n",
        "data = myList\n",
        "# 設置長條圖參數\n",
        "#rows = ['Row 1', 'Row 2', 'Row 3', 'Row 4']  # 每一列的標籤\n",
        "rows = df.iloc[:, 0]\n",
        "\n",
        "# columns = ['A', 'B', 'C']  # 每一行的標籤\n",
        "columns = df2.columns.tolist()\n",
        "\n",
        "\n",
        "# 建立長條圖\n",
        "fig, ax = plt.subplots()\n",
        "width = 0.2  # 設置每個長條的寬度\n",
        "x = np.arange(len(columns))\n",
        "\n",
        "\n",
        "for i, row in enumerate(data):\n",
        "    ax.bar(x + i * width, row, width, label=rows[i])\n",
        "\n",
        "# 加入標籤和圖例\n",
        "ax.set_ylabel('%')\n",
        "ax.set_title(' Row offset')\n",
        "#ax.set_xticks(x + width * (len(data) - 1) / 2)\n",
        "#ax.set_xticklabels(columns)\n",
        "# ax.legend()\n",
        "\n",
        "# 顯示圖形\n",
        "plt.show()\n"
      ],
      "metadata": {
        "id": "Yh1aFKhuRNG7"
      },
      "execution_count": null,
      "outputs": []
    },
    {
      "cell_type": "code",
      "source": [
        "# 維度轉換 範例\n",
        "# 二維陣列\n",
        "two_dim_array = np.array([[1, 2, 3], [4, 5, 6], [7, 8, 9]])\n",
        "\n",
        "# 使用 flatten() 方法\n",
        "one_dim_array_flatten = two_dim_array.flatten()\n",
        "\n",
        "# 使用 ravel() 方法\n",
        "one_dim_array_ravel = two_dim_array.ravel()"
      ],
      "metadata": {
        "id": "DceShgV_g0CT"
      },
      "execution_count": null,
      "outputs": []
    },
    {
      "cell_type": "markdown",
      "source": [
        "### 網路舉例\n",
        "\n",
        "```\n",
        "\n",
        "import matplotlib.pyplot as plt\n",
        "import numpy as np\n",
        "\n",
        "plt.style.use('_mpl-gallery')\n",
        "\n",
        "# make data\n",
        "np.random.seed(1)\n",
        "x = 4 + np.random.normal(0, 1.5, 200)\n",
        "\n",
        "# plot:\n",
        "fig, ax = plt.subplots()\n",
        "\n",
        "ax.hist(x, bins=8, linewidth=0.5, edgecolor=\"white\")\n",
        "\n",
        "ax.set(xlim=(0, 8), xticks=np.arange(1, 8),\n",
        "       ylim=(0, 56), yticks=np.linspace(0, 56, 9))\n",
        "\n",
        "plt.show()\n",
        "\n",
        "```"
      ],
      "metadata": {
        "id": "rrT3cRFGKwvU"
      }
    },
    {
      "cell_type": "code",
      "source": [
        "temp = np.array(df2)\n",
        "x = temp.flatten()  # 二維轉換一維\n",
        "\n",
        "# 繪製分佈圖\n",
        "\n",
        "plt.hist(x, bins=20, edgecolor='y')\n",
        "plt.xlabel('Total %')\n",
        "plt.ylabel('PCS')\n",
        "plt.title('distribution')\n",
        "plt.show()"
      ],
      "metadata": {
        "colab": {
          "base_uri": "https://localhost:8080/",
          "height": 472
        },
        "id": "sxFWOFGNfJ9z",
        "outputId": "023fc8f5-4658-45d4-a768-4ca7a24738b3"
      },
      "execution_count": 15,
      "outputs": [
        {
          "output_type": "display_data",
          "data": {
            "text/plain": [
              "<Figure size 640x480 with 1 Axes>"
            ],
            "image/png": "[encoded data removed]"
          },
          "metadata": {}
        }
      ]
    },
    {
      "cell_type": "code",
      "source": [
        "len(df2)"
      ],
      "metadata": {
        "colab": {
          "base_uri": "https://localhost:8080/"
        },
        "id": "Jw64e7qamgjl",
        "outputId": "d55d6574-deab-4d12-820e-e5f67b763224"
      },
      "execution_count": 17,
      "outputs": [
        {
          "output_type": "execute_result",
          "data": {
            "text/plain": [
              "68"
            ]
          },
          "metadata": {},
          "execution_count": 17
        }
      ]
    },
    {
      "cell_type": "markdown",
      "source": [
        "## 趨勢圖"
      ],
      "metadata": {
        "id": "OgJk6dobjL0x"
      }
    },
    {
      "cell_type": "code",
      "source": [
        "# for i in df2:\n",
        "#   mean = np.mean(df2[i])\n",
        "#   print(mean)"
      ],
      "metadata": {
        "id": "8qxAEyDlqs-5"
      },
      "execution_count": null,
      "outputs": []
    },
    {
      "cell_type": "code",
      "source": [
        "# b = []\n",
        "# for i in df2:\n",
        "#   mean = np.mean(df2[i])\n",
        "#   b.append(mean)"
      ],
      "metadata": {
        "id": "eFf1T-qrqUOb"
      },
      "execution_count": 47,
      "outputs": []
    },
    {
      "cell_type": "code",
      "source": [
        "# import numpy\n",
        "# from matplotlib import pyplot as plt\n",
        "\n",
        "# a = df\n",
        "b = []\n",
        "for i in df2:\n",
        "  mean = np.mean(df2[i])\n",
        "  b.append(mean)\n",
        "\n",
        "# Plot the Data itself.\n",
        "plt.plot(b)\n",
        "\n",
        "plt.show()"
      ],
      "metadata": {
        "colab": {
          "base_uri": "https://localhost:8080/",
          "height": 430
        },
        "id": "ZtFM157WlK4p",
        "outputId": "6dfa16a0-73a4-4d4a-c974-c48c1e8e420b"
      },
      "execution_count": 49,
      "outputs": [
        {
          "output_type": "display_data",
          "data": {
            "text/plain": [
              "<Figure size 640x480 with 1 Axes>"
            ],
            "image/png": "[encoded data removed]"
          },
          "metadata": {}
        }
      ]
    }
  ]
}